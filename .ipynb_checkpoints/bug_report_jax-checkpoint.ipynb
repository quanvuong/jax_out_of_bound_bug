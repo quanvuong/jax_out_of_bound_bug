{
 "cells": [
  {
   "cell_type": "code",
   "execution_count": 1,
   "metadata": {},
   "outputs": [
    {
     "name": "stdout",
     "output_type": "stream",
     "text": [
      "jax version: 0.1.46\n",
      "(2, 1)\n",
      "[[0.00296329]\n",
      " [0.00434136]]\n",
      "0.0029632905\n"
     ]
    },
    {
     "ename": "IndexError",
     "evalue": "index 10 is out of bounds for axis 0 with size 1",
     "output_type": "error",
     "traceback": [
      "\u001b[0;31m---------------------------------------------------------------------------\u001b[0m",
      "\u001b[0;31mIndexError\u001b[0m                                Traceback (most recent call last)",
      "\u001b[0;32m<ipython-input-1-51a5124572b7>\u001b[0m in \u001b[0;36m<module>\u001b[0;34m\u001b[0m\n\u001b[1;32m     61\u001b[0m     \u001b[0mprint\u001b[0m\u001b[0;34m(\u001b[0m\u001b[0mx\u001b[0m\u001b[0;34m[\u001b[0m\u001b[0;36m0\u001b[0m\u001b[0;34m]\u001b[0m\u001b[0;34m[\u001b[0m\u001b[0;36m10\u001b[0m\u001b[0;34m]\u001b[0m\u001b[0;34m)\u001b[0m\u001b[0;34m\u001b[0m\u001b[0;34m\u001b[0m\u001b[0m\n\u001b[1;32m     62\u001b[0m \u001b[0;34m\u001b[0m\u001b[0m\n\u001b[0;32m---> 63\u001b[0;31m \u001b[0mtest\u001b[0m\u001b[0;34m(\u001b[0m\u001b[0;34m)\u001b[0m\u001b[0;34m\u001b[0m\u001b[0;34m\u001b[0m\u001b[0m\n\u001b[0m",
      "\u001b[0;32m<ipython-input-1-51a5124572b7>\u001b[0m in \u001b[0;36mtest\u001b[0;34m()\u001b[0m\n\u001b[1;32m     59\u001b[0m \u001b[0;34m\u001b[0m\u001b[0m\n\u001b[1;32m     60\u001b[0m     \u001b[0;31m# This will raise an error\u001b[0m\u001b[0;34m\u001b[0m\u001b[0;34m\u001b[0m\u001b[0;34m\u001b[0m\u001b[0m\n\u001b[0;32m---> 61\u001b[0;31m     \u001b[0mprint\u001b[0m\u001b[0;34m(\u001b[0m\u001b[0mx\u001b[0m\u001b[0;34m[\u001b[0m\u001b[0;36m0\u001b[0m\u001b[0;34m]\u001b[0m\u001b[0;34m[\u001b[0m\u001b[0;36m10\u001b[0m\u001b[0;34m]\u001b[0m\u001b[0;34m)\u001b[0m\u001b[0;34m\u001b[0m\u001b[0;34m\u001b[0m\u001b[0m\n\u001b[0m\u001b[1;32m     62\u001b[0m \u001b[0;34m\u001b[0m\u001b[0m\n\u001b[1;32m     63\u001b[0m \u001b[0mtest\u001b[0m\u001b[0;34m(\u001b[0m\u001b[0;34m)\u001b[0m\u001b[0;34m\u001b[0m\u001b[0;34m\u001b[0m\u001b[0m\n",
      "\u001b[0;31mIndexError\u001b[0m: index 10 is out of bounds for axis 0 with size 1"
     ]
    }
   ],
   "source": [
    "import jax\n",
    "import jax.numpy as np\n",
    "import jax.random as random\n",
    "import jax.nn as nn\n",
    "\n",
    "print(f'jax version: {jax.__version__}')\n",
    "\n",
    "\n",
    "# for a dense neural network layer\n",
    "def random_layer_params(nin, nout, key, scale=1e-2):\n",
    "    w_key, b_key = random.split(key)\n",
    "    return scale * random.normal(w_key, (nout, nin)), scale * random.normal(b_key, (nout, 1))\n",
    "\n",
    "\n",
    "# Initialize all layers for a fully-connected neural network with sizes \"sizes\"\n",
    "def init_network_params(sizes, key):\n",
    "    keys = random.split(key, len(sizes))\n",
    "    return [random_layer_params(nin, nout, k) for nin, nout, k in zip(sizes[:-1], sizes[1:], keys)]\n",
    "\n",
    "\n",
    "def forward(params, x):\n",
    "    act = x \n",
    "\n",
    "    for (w, b) in params[:-1]:\n",
    "        out = np.dot(w, act) + b\n",
    "        act = nn.relu(out)\n",
    "\n",
    "    final_w, final_b = params[-1]\n",
    "\n",
    "    out = np.dot(final_w, act) + final_b\n",
    "\n",
    "    return out\n",
    "\n",
    "\n",
    "def test():\n",
    "    \n",
    "    D = 2\n",
    "    x = np.arange(1, D+1)\n",
    "    x = np.expand_dims(x, axis=1)\n",
    "    x = np.float32(x)\n",
    "    \n",
    "    hidden_sizes = [6]\n",
    "    sizes = [D] + hidden_sizes + [D]\n",
    "    \n",
    "    params = init_network_params(sizes, random.PRNGKey(0))\n",
    "    \n",
    "    def get_forward_dim(*args):\n",
    "        return forward(*args)[0, 2]\n",
    "    \n",
    "    forward_output = forward(params, x)\n",
    "    \n",
    "    print(forward_output.shape)\n",
    "    \n",
    "    # This should raise an error \n",
    "    # because we're accessing a dimension that is out of bound\n",
    "    # but no error is raised\n",
    "    print(forward_output)\n",
    "    print(forward_output[0][10])\n",
    "    \n",
    "    # This will raise an error\n",
    "    print(x[0][10])\n",
    "        \n",
    "test()"
   ]
  },
  {
   "cell_type": "code",
   "execution_count": null,
   "metadata": {},
   "outputs": [],
   "source": []
  }
 ],
 "metadata": {
  "kernelspec": {
   "display_name": "Python 3",
   "language": "python",
   "name": "python3"
  },
  "language_info": {
   "codemirror_mode": {
    "name": "ipython",
    "version": 3
   },
   "file_extension": ".py",
   "mimetype": "text/x-python",
   "name": "python",
   "nbconvert_exporter": "python",
   "pygments_lexer": "ipython3",
   "version": "3.7.3"
  }
 },
 "nbformat": 4,
 "nbformat_minor": 4
}
